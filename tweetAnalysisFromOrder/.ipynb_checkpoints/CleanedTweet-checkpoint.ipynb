{
 "cells": [
  {
   "cell_type": "markdown",
   "metadata": {},
   "source": [
    "## The query to get data from *twitterscraper* \n",
    "\n",
    "    The Hashtags are\n",
    "    ----------------\n",
    "    1. #HuracanMaria\n",
    "    2. #MariaFloods\n",
    "    3. #HurricaneMaria\n",
    "    4. #PuertoRicoFloods\n",
    "    5. #PrayForPR\n",
    "    \n",
    "    The dates are\n",
    "    -----------------\n",
    "    •Pre phase      - 3 days 16 th September to 19th September\n",
    "    •disaster phase - 5 days September 20th 2017 – September 25th 2017\n",
    "    •post phase     - 6 days 26th to 2nd October 2017\n",
    "    \n",
    "    Examples(Pre)\n",
    "    --------------\n",
    "    twitterscraper \"(#PrayForPR OR #HuracanMaria OR #HurricaneMaria OR #MariaFloods OR #PuertoRicoFloods) until:2017-09-19 since:2017-09-16\" -o maria.json -l 1000\n",
    "    \n",
    "    Examples(During)\n",
    "    ----------------\n",
    "    twitterscraper \"(#PrayForPR OR #HuracanMaria OR #HurricaneMaria OR #MariaFloods OR #PuertoRicoFloods) until:2017-09-25 since:2017-09-20\" -o during_maria.json -l 10000\n",
    "    \n",
    "    Examples(Post)\n",
    "    ----------------\n",
    "    twitterscraper \"(#PrayForPR OR #HuracanMaria OR #HurricaneMaria OR #MariaFloods OR #PuertoRicoFloods) until:2017-10-2 since:2017-09-26\" -o post_maria.json -l 10000\n",
    "    \n",
    "    "
   ]
  },
  {
   "cell_type": "code",
   "execution_count": 83,
   "metadata": {},
   "outputs": [],
   "source": [
    "import pandas as pd\n",
    "\n",
    "df = pd.read_json('pre_maria.json')"
   ]
  },
  {
   "cell_type": "code",
   "execution_count": 84,
   "metadata": {},
   "outputs": [],
   "source": [
    "df = df.filter(['hashtags','text', 'timestamp','tweet_id','img_urls','video_url'])"
   ]
  },
  {
   "cell_type": "code",
   "execution_count": 86,
   "metadata": {},
   "outputs": [],
   "source": [
    "# df.sort_values('tweet_id', inplace=True)\n",
    "df.drop_duplicates(subset =\"tweet_id\", \n",
    "                     keep = False, inplace = True)\n",
    "\n",
    "df.set_index('tweet_id', inplace=True)"
   ]
  },
  {
   "cell_type": "code",
   "execution_count": null,
   "metadata": {},
   "outputs": [],
   "source": [
    "df.to_csv('cleaned_pre_maria.csv')"
   ]
  }
 ],
 "metadata": {
  "kernelspec": {
   "display_name": "Python 3",
   "language": "python",
   "name": "python3"
  },
  "language_info": {
   "codemirror_mode": {
    "name": "ipython",
    "version": 3
   },
   "file_extension": ".py",
   "mimetype": "text/x-python",
   "name": "python",
   "nbconvert_exporter": "python",
   "pygments_lexer": "ipython3",
   "version": "3.7.6"
  }
 },
 "nbformat": 4,
 "nbformat_minor": 4
}
