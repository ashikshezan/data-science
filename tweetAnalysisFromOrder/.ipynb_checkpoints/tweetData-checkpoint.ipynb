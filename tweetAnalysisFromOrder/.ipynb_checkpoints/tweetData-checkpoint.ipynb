{
 "cells": [
  {
   "cell_type": "code",
   "execution_count": 163,
   "metadata": {},
   "outputs": [],
   "source": [
    "import pandas as pd\n",
    "\n",
    "filter_categories = {\n",
    "    'water': ['drink', 'water','contamination', 'thirst', 'thirsty', 'to drink', 'hydrate'],\n",
    "    'financial': ['Money', 'money', 'stocks', 'GDP', 'business', 'economy'],\n",
    "    'health': ['injured', 'medical', 'death', 'casualitiy', 'hospital', 'accident', 'victims', 'casualities'],\n",
    "    'building': ['houses','structure','structure', 'buildings','building', 'apartments', 'apartment'],\n",
    "    'power': ['electricity', 'electric', 'power', 'utility', 'lights'],\n",
    "    'transportation':['road','roads', 'bus', 'car', 'uber', 'highway', 'hwy', 'traffic', 'tollway']\n",
    "}"
   ]
  },
  {
   "cell_type": "code",
   "execution_count": 161,
   "metadata": {},
   "outputs": [],
   "source": [
    "def filter_tweets(input_filename):\n",
    "\n",
    "    df = pd.read_csv(input_filename)\n",
    "    df['text'] = df['text'].str.lower()\n",
    "    df['category'] = False\n",
    "    filter_water = df['text'].str.contains('|'.join(filter_categories['water']), na=False)\n",
    "    filter_financial = df['text'].str.contains('|'.join(filter_categories['financial']), na=False)\n",
    "    filter_health = df['text'].str.contains('|'.join(filter_categories['health']), na=False)\n",
    "    filter_building = df['text'].str.contains('|'.join(filter_categories['building']), na=False)\n",
    "    filter_power = df['text'].str.contains('|'.join(filter_categories['power']), na=False)\n",
    "    filter_transportation = df['text'].str.contains('|'.join(filter_categories['transportation']), na=False)\n",
    "\n",
    "    df.loc[filter_water, 'category'] = 'water'\n",
    "    df.loc[filter_financial, 'category'] = 'financial'\n",
    "    df.loc[filter_health, 'category'] = 'health'\n",
    "    df.loc[filter_building, 'category'] = 'building'\n",
    "    df.loc[filter_power, 'category'] = 'power'\n",
    "    df.loc[filter_transportation, 'category'] = 'transportation'\n",
    "\n",
    "    f = df['category'] != False\n",
    "    df = df[f]\n",
    "    \n",
    "    df.set_index('tweet_id', inplace=True)\n",
    "    \n",
    "    df.to_csv('filtered_' + input_filename)\n",
    "    "
   ]
  },
  {
   "cell_type": "code",
   "execution_count": 162,
   "metadata": {},
   "outputs": [],
   "source": [
    "files = ['cleaned_pre_maria.csv', 'cleaned_during_maria.csv', 'cleaned_post_maria.csv']\n",
    "\n",
    "for f in files:\n",
    "    filter_tweets(f)"
   ]
  }
 ],
 "metadata": {
  "kernelspec": {
   "display_name": "Python 3",
   "language": "python",
   "name": "python3"
  },
  "language_info": {
   "codemirror_mode": {
    "name": "ipython",
    "version": 3
   },
   "file_extension": ".py",
   "mimetype": "text/x-python",
   "name": "python",
   "nbconvert_exporter": "python",
   "pygments_lexer": "ipython3",
   "version": "3.7.6"
  }
 },
 "nbformat": 4,
 "nbformat_minor": 4
}
