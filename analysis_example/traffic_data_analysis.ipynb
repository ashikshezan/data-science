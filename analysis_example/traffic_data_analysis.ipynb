{
 "cells": [
  {
   "cell_type": "code",
   "execution_count": 20,
   "metadata": {},
   "outputs": [],
   "source": [
    "import requests\n",
    "import pandas as pd\n",
    "from io import BytesIO\n",
    "from zipfile import ZipFile\n",
    "\n",
    "# US - San Diego data from \"https://openpolicing.stanford.edu/data/\"\n",
    "file_url = \"https://stacks.stanford.edu/file/druid:yg821jf8611/yg821jf8611_ca_san_diego_2020_04_01.csv.zip\"\n",
    "\n",
    "resp = requests.get(file_url) # Downloading the dataset\n",
    "zip_file = ZipFile(BytesIO(resp.content)) # Loading the ZipFile into memory\n",
    "csv_file_name = [n for n in zip_file.namelist() if n.endswith(\".csv\")][0] # Taking the csv filename"
   ]
  },
  {
   "cell_type": "markdown",
   "metadata": {},
   "source": [
    "## Inspecting and cleaning the data"
   ]
  },
  {
   "cell_type": "code",
   "execution_count": 21,
   "metadata": {},
   "outputs": [
    {
     "name": "stdout",
     "output_type": "stream",
     "text": [
      "(383027, 21)\n"
     ]
    },
    {
     "data": {
      "text/html": [
       "<div>\n",
       "<style scoped>\n",
       "    .dataframe tbody tr th:only-of-type {\n",
       "        vertical-align: middle;\n",
       "    }\n",
       "\n",
       "    .dataframe tbody tr th {\n",
       "        vertical-align: top;\n",
       "    }\n",
       "\n",
       "    .dataframe thead th {\n",
       "        text-align: right;\n",
       "    }\n",
       "</style>\n",
       "<table border=\"1\" class=\"dataframe\">\n",
       "  <thead>\n",
       "    <tr style=\"text-align: right;\">\n",
       "      <th></th>\n",
       "      <th>raw_row_number</th>\n",
       "      <th>date</th>\n",
       "      <th>time</th>\n",
       "      <th>service_area</th>\n",
       "      <th>subject_age</th>\n",
       "      <th>subject_race</th>\n",
       "      <th>subject_sex</th>\n",
       "      <th>type</th>\n",
       "      <th>arrest_made</th>\n",
       "      <th>citation_issued</th>\n",
       "      <th>...</th>\n",
       "      <th>outcome</th>\n",
       "      <th>contraband_found</th>\n",
       "      <th>search_conducted</th>\n",
       "      <th>search_person</th>\n",
       "      <th>search_vehicle</th>\n",
       "      <th>search_basis</th>\n",
       "      <th>reason_for_search</th>\n",
       "      <th>reason_for_stop</th>\n",
       "      <th>raw_action_taken</th>\n",
       "      <th>raw_subject_race_description</th>\n",
       "    </tr>\n",
       "  </thead>\n",
       "  <tbody>\n",
       "    <tr>\n",
       "      <th>0</th>\n",
       "      <td>1</td>\n",
       "      <td>2014-01-01</td>\n",
       "      <td>01:25:00</td>\n",
       "      <td>110</td>\n",
       "      <td>24.0</td>\n",
       "      <td>white</td>\n",
       "      <td>male</td>\n",
       "      <td>vehicular</td>\n",
       "      <td>False</td>\n",
       "      <td>True</td>\n",
       "      <td>...</td>\n",
       "      <td>citation</td>\n",
       "      <td>NaN</td>\n",
       "      <td>False</td>\n",
       "      <td>False</td>\n",
       "      <td>False</td>\n",
       "      <td>NaN</td>\n",
       "      <td>NaN</td>\n",
       "      <td>Moving Violation</td>\n",
       "      <td>Citation</td>\n",
       "      <td>WHITE</td>\n",
       "    </tr>\n",
       "    <tr>\n",
       "      <th>1</th>\n",
       "      <td>2</td>\n",
       "      <td>2014-01-01</td>\n",
       "      <td>05:47:00</td>\n",
       "      <td>320</td>\n",
       "      <td>42.0</td>\n",
       "      <td>white</td>\n",
       "      <td>male</td>\n",
       "      <td>vehicular</td>\n",
       "      <td>False</td>\n",
       "      <td>False</td>\n",
       "      <td>...</td>\n",
       "      <td>warning</td>\n",
       "      <td>NaN</td>\n",
       "      <td>False</td>\n",
       "      <td>False</td>\n",
       "      <td>False</td>\n",
       "      <td>NaN</td>\n",
       "      <td>NaN</td>\n",
       "      <td>Moving Violation</td>\n",
       "      <td>Verbal Warning</td>\n",
       "      <td>WHITE</td>\n",
       "    </tr>\n",
       "    <tr>\n",
       "      <th>2</th>\n",
       "      <td>3</td>\n",
       "      <td>2014-01-01</td>\n",
       "      <td>07:46:00</td>\n",
       "      <td>320</td>\n",
       "      <td>29.0</td>\n",
       "      <td>asian/pacific islander</td>\n",
       "      <td>male</td>\n",
       "      <td>vehicular</td>\n",
       "      <td>False</td>\n",
       "      <td>False</td>\n",
       "      <td>...</td>\n",
       "      <td>warning</td>\n",
       "      <td>NaN</td>\n",
       "      <td>False</td>\n",
       "      <td>False</td>\n",
       "      <td>False</td>\n",
       "      <td>NaN</td>\n",
       "      <td>NaN</td>\n",
       "      <td>Moving Violation</td>\n",
       "      <td>Verbal Warning</td>\n",
       "      <td>LAOTIAN</td>\n",
       "    </tr>\n",
       "  </tbody>\n",
       "</table>\n",
       "<p>3 rows × 21 columns</p>\n",
       "</div>"
      ],
      "text/plain": [
       "  raw_row_number        date      time service_area  subject_age  \\\n",
       "0              1  2014-01-01  01:25:00          110         24.0   \n",
       "1              2  2014-01-01  05:47:00          320         42.0   \n",
       "2              3  2014-01-01  07:46:00          320         29.0   \n",
       "\n",
       "             subject_race subject_sex       type arrest_made citation_issued  \\\n",
       "0                   white        male  vehicular       False            True   \n",
       "1                   white        male  vehicular       False           False   \n",
       "2  asian/pacific islander        male  vehicular       False           False   \n",
       "\n",
       "   ...   outcome contraband_found search_conducted  search_person  \\\n",
       "0  ...  citation              NaN            False          False   \n",
       "1  ...   warning              NaN            False          False   \n",
       "2  ...   warning              NaN            False          False   \n",
       "\n",
       "  search_vehicle search_basis reason_for_search   reason_for_stop  \\\n",
       "0          False          NaN               NaN  Moving Violation   \n",
       "1          False          NaN               NaN  Moving Violation   \n",
       "2          False          NaN               NaN  Moving Violation   \n",
       "\n",
       "  raw_action_taken raw_subject_race_description  \n",
       "0         Citation                        WHITE  \n",
       "1   Verbal Warning                        WHITE  \n",
       "2   Verbal Warning                      LAOTIAN  \n",
       "\n",
       "[3 rows x 21 columns]"
      ]
     },
     "execution_count": 21,
     "metadata": {},
     "output_type": "execute_result"
    }
   ],
   "source": [
    "df: pd.DataFrame = pd.read_csv(zip_file.open(csv_file_name))\n",
    "\n",
    "print(df.shape)\n",
    "df.head(3)\n"
   ]
  },
  {
   "cell_type": "code",
   "execution_count": 15,
   "metadata": {},
   "outputs": [
    {
     "data": {
      "text/plain": [
       "raw_row_number                       0\n",
       "date                               183\n",
       "time                               735\n",
       "service_area                         0\n",
       "subject_age                      11963\n",
       "subject_race                      1234\n",
       "subject_sex                        661\n",
       "type                                 0\n",
       "arrest_made                      34743\n",
       "citation_issued                  31971\n",
       "warning_issued                   31971\n",
       "outcome                          39172\n",
       "contraband_found                366739\n",
       "search_conducted                     0\n",
       "search_person                     2190\n",
       "search_vehicle                    2190\n",
       "search_basis                    366739\n",
       "reason_for_search               368749\n",
       "reason_for_stop                    219\n",
       "raw_action_taken                 31971\n",
       "raw_subject_race_description      1234\n",
       "dtype: int64"
      ]
     },
     "execution_count": 15,
     "metadata": {},
     "output_type": "execute_result"
    }
   ],
   "source": [
    "df.isna().sum()"
   ]
  },
  {
   "cell_type": "code",
   "execution_count": 22,
   "metadata": {},
   "outputs": [
    {
     "data": {
      "text/plain": [
       "(383027, 18)"
      ]
     },
     "execution_count": 22,
     "metadata": {},
     "output_type": "execute_result"
    }
   ],
   "source": [
    "# Dropping columns that has a lot of missing values\n",
    "df.drop([\"contraband_found\", \"search_basis\", \"reason_for_search\"], axis=1, inplace=True)\n",
    "df.shape"
   ]
  },
  {
   "cell_type": "code",
   "execution_count": 23,
   "metadata": {},
   "outputs": [
    {
     "data": {
      "text/plain": [
       "(312998, 18)"
      ]
     },
     "execution_count": 23,
     "metadata": {},
     "output_type": "execute_result"
    }
   ],
   "source": [
    "# Dropping the rows that has missing values in any of the field\n",
    "df.dropna(axis=0, inplace=True)\n",
    "df.shape"
   ]
  },
  {
   "cell_type": "code",
   "execution_count": 32,
   "metadata": {},
   "outputs": [
    {
     "name": "stdout",
     "output_type": "stream",
     "text": [
      "(312998, 19)\n"
     ]
    },
    {
     "data": {
      "text/plain": [
       "0"
      ]
     },
     "execution_count": 32,
     "metadata": {},
     "output_type": "execute_result"
    }
   ],
   "source": [
    "# combining 'date' and 'time' column to 'date_time'\n",
    "combine = df.date.str.cat(df.time, sep=' ')\n",
    "df[\"date_time\"] = pd.to_datetime(combine)\n",
    " \n",
    "print(df.shape)\n",
    "sum(df.isna().sum())"
   ]
  },
  {
   "cell_type": "markdown",
   "metadata": {},
   "source": [
    "## Analyzing data"
   ]
  },
  {
   "cell_type": "code",
   "execution_count": 37,
   "metadata": {},
   "outputs": [
    {
     "data": {
      "text/plain": [
       "citation    0.639643\n",
       "warning     0.348612\n",
       "arrest      0.011744\n",
       "Name: outcome, dtype: float64"
      ]
     },
     "execution_count": 37,
     "metadata": {},
     "output_type": "execute_result"
    }
   ],
   "source": [
    "df.outcome.value_counts(normalize=True)"
   ]
  },
  {
   "cell_type": "code",
   "execution_count": 42,
   "metadata": {},
   "outputs": [
    {
     "data": {
      "text/plain": [
       "raw_subject_race_description  outcome \n",
       "ASIAN INDIAN                  citation    0.705882\n",
       "                              warning     0.294118\n",
       "BLACK                         citation    0.537975\n",
       "                              warning     0.442443\n",
       "                              arrest      0.019582\n",
       "CAMBODIAN                     warning     0.496689\n",
       "                              citation    0.463576\n",
       "                              arrest      0.039735\n",
       "CHINESE                       citation    0.595789\n",
       "                              warning     0.401053\n",
       "                              arrest      0.003158\n",
       "FILIPINO                      citation    0.569369\n",
       "                              warning     0.419926\n",
       "                              arrest      0.010706\n",
       "GUAMANIAN                     citation    0.585366\n",
       "                              warning     0.317073\n",
       "                              arrest      0.097561\n",
       "HAWAIIAN                      citation    0.580000\n",
       "                              warning     0.340000\n",
       "                              arrest      0.080000\n",
       "HISPANIC                      citation    0.660085\n",
       "                              warning     0.325825\n",
       "                              arrest      0.014090\n",
       "INDIAN                        citation    0.510876\n",
       "                              warning     0.477954\n",
       "                              arrest      0.011170\n",
       "JAPANESE                      citation    0.643182\n",
       "                              warning     0.347727\n",
       "                              arrest      0.009091\n",
       "KOREAN                        citation    0.609375\n",
       "                              warning     0.361328\n",
       "                              arrest      0.029297\n",
       "LAOTIAN                       warning     0.538813\n",
       "                              citation    0.406393\n",
       "                              arrest      0.054795\n",
       "OTHER                         citation    0.703543\n",
       "                              warning     0.290982\n",
       "                              arrest      0.005475\n",
       "OTHER ASIAN                   citation    0.624059\n",
       "                              warning     0.371396\n",
       "                              arrest      0.004546\n",
       "PACIFIC ISLANDER              citation    0.581871\n",
       "                              warning     0.400585\n",
       "                              arrest      0.017544\n",
       "SAMOAN                        citation    0.511111\n",
       "                              warning     0.466667\n",
       "                              arrest      0.022222\n",
       "VIETNAMESE                    citation    0.542366\n",
       "                              warning     0.441647\n",
       "                              arrest      0.015987\n",
       "WHITE                         citation    0.649952\n",
       "                              warning     0.340294\n",
       "                              arrest      0.009754\n",
       "Name: outcome, dtype: float64"
      ]
     },
     "execution_count": 42,
     "metadata": {},
     "output_type": "execute_result"
    }
   ],
   "source": [
    "df.groupby(\"raw_subject_race_description\")[\"outcome\"].value_counts(normalize=True)"
   ]
  }
 ],
 "metadata": {
  "interpreter": {
   "hash": "5d30cd488b80f61c38f6bd5e4d38379d2d5ef91407220e7542eaba9511963db0"
  },
  "kernelspec": {
   "display_name": "Python 3.9.7 64-bit ('.venv': poetry)",
   "name": "python3"
  },
  "language_info": {
   "codemirror_mode": {
    "name": "ipython",
    "version": 3
   },
   "file_extension": ".py",
   "mimetype": "text/x-python",
   "name": "python",
   "nbconvert_exporter": "python",
   "pygments_lexer": "ipython3",
   "version": "3.9.7"
  },
  "orig_nbformat": 4
 },
 "nbformat": 4,
 "nbformat_minor": 2
}
