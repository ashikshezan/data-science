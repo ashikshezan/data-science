{
 "cells": [
  {
   "cell_type": "markdown",
   "metadata": {},
   "source": [
    "# A project to analyse the data of UFO was seen all over the globe\n",
    "\n",
    "    Basics of Pandas"
   ]
  },
  {
   "cell_type": "code",
   "execution_count": 26,
   "metadata": {},
   "outputs": [],
   "source": [
    "import pandas as pd\n",
    "import matplotlib as plt\n",
    "import numpy as np\n",
    "%matplotlib inline"
   ]
  },
  {
   "cell_type": "code",
   "execution_count": 27,
   "metadata": {},
   "outputs": [
    {
     "data": {
      "text/html": [
       "<div>\n",
       "<style scoped>\n",
       "    .dataframe tbody tr th:only-of-type {\n",
       "        vertical-align: middle;\n",
       "    }\n",
       "\n",
       "    .dataframe tbody tr th {\n",
       "        vertical-align: top;\n",
       "    }\n",
       "\n",
       "    .dataframe thead th {\n",
       "        text-align: right;\n",
       "    }\n",
       "</style>\n",
       "<table border=\"1\" class=\"dataframe\">\n",
       "  <thead>\n",
       "    <tr style=\"text-align: right;\">\n",
       "      <th></th>\n",
       "      <th>summary</th>\n",
       "      <th>city</th>\n",
       "      <th>state</th>\n",
       "      <th>date_time</th>\n",
       "      <th>shape</th>\n",
       "      <th>duration</th>\n",
       "      <th>stats</th>\n",
       "      <th>report_link</th>\n",
       "      <th>text</th>\n",
       "      <th>posted</th>\n",
       "      <th>city_latitude</th>\n",
       "      <th>city_longitude</th>\n",
       "    </tr>\n",
       "  </thead>\n",
       "  <tbody>\n",
       "    <tr>\n",
       "      <th>0</th>\n",
       "      <td>My wife was driving southeast on a fairly popu...</td>\n",
       "      <td>Chester</td>\n",
       "      <td>VA</td>\n",
       "      <td>2019-12-12T18:43:00</td>\n",
       "      <td>light</td>\n",
       "      <td>5 seconds</td>\n",
       "      <td>Occurred : 12/12/2019 18:43  (Entered as : 12/...</td>\n",
       "      <td>http://www.nuforc.org/webreports/151/S151739.html</td>\n",
       "      <td>My wife was driving southeast on a fairly popu...</td>\n",
       "      <td>2019-12-22T00:00:00</td>\n",
       "      <td>37.343152</td>\n",
       "      <td>-77.408582</td>\n",
       "    </tr>\n",
       "    <tr>\n",
       "      <th>1</th>\n",
       "      <td>I think that I may caught a UFO on the NBC Nig...</td>\n",
       "      <td>Rocky Hill</td>\n",
       "      <td>CT</td>\n",
       "      <td>2019-03-22T18:30:00</td>\n",
       "      <td>circle</td>\n",
       "      <td>3-5 seconds</td>\n",
       "      <td>Occurred : 3/22/2019 18:30  (Entered as : 03/2...</td>\n",
       "      <td>http://www.nuforc.org/webreports/145/S145297.html</td>\n",
       "      <td>I think that I may caught a UFO on the NBC Nig...</td>\n",
       "      <td>2019-03-29T00:00:00</td>\n",
       "      <td>41.664800</td>\n",
       "      <td>-72.639300</td>\n",
       "    </tr>\n",
       "    <tr>\n",
       "      <th>2</th>\n",
       "      <td>I woke up late in the afternoon 3:30-4pm. I we...</td>\n",
       "      <td>NaN</td>\n",
       "      <td>NaN</td>\n",
       "      <td>NaN</td>\n",
       "      <td>NaN</td>\n",
       "      <td>NaN</td>\n",
       "      <td>Occurred : 4/1/2019 15:45  (Entered as : April...</td>\n",
       "      <td>http://www.nuforc.org/webreports/145/S145556.html</td>\n",
       "      <td>I woke up late in the afternoon 3:30-4pm.  I w...</td>\n",
       "      <td>NaN</td>\n",
       "      <td>NaN</td>\n",
       "      <td>NaN</td>\n",
       "    </tr>\n",
       "  </tbody>\n",
       "</table>\n",
       "</div>"
      ],
      "text/plain": [
       "                                             summary        city state  \\\n",
       "0  My wife was driving southeast on a fairly popu...     Chester    VA   \n",
       "1  I think that I may caught a UFO on the NBC Nig...  Rocky Hill    CT   \n",
       "2  I woke up late in the afternoon 3:30-4pm. I we...         NaN   NaN   \n",
       "\n",
       "             date_time   shape     duration  \\\n",
       "0  2019-12-12T18:43:00   light    5 seconds   \n",
       "1  2019-03-22T18:30:00  circle  3-5 seconds   \n",
       "2                  NaN     NaN          NaN   \n",
       "\n",
       "                                               stats  \\\n",
       "0  Occurred : 12/12/2019 18:43  (Entered as : 12/...   \n",
       "1  Occurred : 3/22/2019 18:30  (Entered as : 03/2...   \n",
       "2  Occurred : 4/1/2019 15:45  (Entered as : April...   \n",
       "\n",
       "                                         report_link  \\\n",
       "0  http://www.nuforc.org/webreports/151/S151739.html   \n",
       "1  http://www.nuforc.org/webreports/145/S145297.html   \n",
       "2  http://www.nuforc.org/webreports/145/S145556.html   \n",
       "\n",
       "                                                text               posted  \\\n",
       "0  My wife was driving southeast on a fairly popu...  2019-12-22T00:00:00   \n",
       "1  I think that I may caught a UFO on the NBC Nig...  2019-03-29T00:00:00   \n",
       "2  I woke up late in the afternoon 3:30-4pm.  I w...                  NaN   \n",
       "\n",
       "   city_latitude  city_longitude  \n",
       "0      37.343152      -77.408582  \n",
       "1      41.664800      -72.639300  \n",
       "2            NaN             NaN  "
      ]
     },
     "execution_count": 27,
     "metadata": {},
     "output_type": "execute_result"
    }
   ],
   "source": [
    "df = pd.read_csv('data/reports.csv')\n",
    "df.head(3)"
   ]
  },
  {
   "cell_type": "markdown",
   "metadata": {},
   "source": [
    "## Analysing the shape/info of the Dataset\n",
    "\n",
    "    - df.shape\n",
    "    - df.colums\n",
    "    - df.dtypes\n",
    "    - df.info() (is better) \n",
    "    - df.isnull().sum()  -> is a Dataframe method\n",
    "    - pd.set_option('display.max_columns', 10)\n"
   ]
  },
  {
   "cell_type": "code",
   "execution_count": 28,
   "metadata": {},
   "outputs": [
    {
     "data": {
      "text/plain": [
       "(88125, 12)"
      ]
     },
     "execution_count": 28,
     "metadata": {},
     "output_type": "execute_result"
    }
   ],
   "source": [
    "# number of rows and cols\n",
    "df.shape"
   ]
  },
  {
   "cell_type": "code",
   "execution_count": 29,
   "metadata": {},
   "outputs": [
    {
     "data": {
      "text/plain": [
       "Index(['summary', 'city', 'state', 'date_time', 'shape', 'duration', 'stats',\n",
       "       'report_link', 'text', 'posted', 'city_latitude', 'city_longitude'],\n",
       "      dtype='object')"
      ]
     },
     "execution_count": 29,
     "metadata": {},
     "output_type": "execute_result"
    }
   ],
   "source": [
    "df.columns"
   ]
  },
  {
   "cell_type": "code",
   "execution_count": 30,
   "metadata": {},
   "outputs": [
    {
     "data": {
      "text/plain": [
       "summary            object\n",
       "city               object\n",
       "state              object\n",
       "date_time          object\n",
       "shape              object\n",
       "duration           object\n",
       "stats              object\n",
       "report_link        object\n",
       "text               object\n",
       "posted             object\n",
       "city_latitude     float64\n",
       "city_longitude    float64\n",
       "dtype: object"
      ]
     },
     "execution_count": 30,
     "metadata": {},
     "output_type": "execute_result"
    }
   ],
   "source": [
    "df.dtypes"
   ]
  },
  {
   "cell_type": "code",
   "execution_count": 31,
   "metadata": {},
   "outputs": [
    {
     "name": "stdout",
     "output_type": "stream",
     "text": [
      "<class 'pandas.core.frame.DataFrame'>\n",
      "RangeIndex: 88125 entries, 0 to 88124\n",
      "Data columns (total 12 columns):\n",
      " #   Column          Non-Null Count  Dtype  \n",
      "---  ------          --------------  -----  \n",
      " 0   summary         88095 non-null  object \n",
      " 1   city            87891 non-null  object \n",
      " 2   state           82890 non-null  object \n",
      " 3   date_time       86938 non-null  object \n",
      " 4   shape           85627 non-null  object \n",
      " 5   duration        84954 non-null  object \n",
      " 6   stats           88088 non-null  object \n",
      " 7   report_link     88125 non-null  object \n",
      " 8   text            88070 non-null  object \n",
      " 9   posted          86938 non-null  object \n",
      " 10  city_latitude   72013 non-null  float64\n",
      " 11  city_longitude  72013 non-null  float64\n",
      "dtypes: float64(2), object(10)\n",
      "memory usage: 8.1+ MB\n"
     ]
    }
   ],
   "source": [
    "df.info()"
   ]
  },
  {
   "cell_type": "code",
   "execution_count": 32,
   "metadata": {},
   "outputs": [
    {
     "data": {
      "text/plain": [
       "summary              30\n",
       "city                234\n",
       "state              5235\n",
       "date_time          1187\n",
       "shape              2498\n",
       "duration           3171\n",
       "stats                37\n",
       "report_link           0\n",
       "text                 55\n",
       "posted             1187\n",
       "city_latitude     16112\n",
       "city_longitude    16112\n",
       "dtype: int64"
      ]
     },
     "execution_count": 32,
     "metadata": {},
     "output_type": "execute_result"
    }
   ],
   "source": [
    "# Determine the number of missing/NaN values in each columns\n",
    "df.isnull().sum()"
   ]
  },
  {
   "cell_type": "markdown",
   "metadata": {},
   "source": [
    "## Selecting Rows and Columns loc, iloc & indexing\n",
    "\n",
    "indexing is like primary key for a row but unlike pk index dont have to be always unique. `df.loc['index_name']` will return all the mattching row.\n",
    "\n",
    "    - df.set_index('NAME_OF_A_COL') --> takes inplace parameter\n",
    "    - df.index\n",
    "    - df.sort_index() --> takes inplace "
   ]
  },
  {
   "cell_type": "markdown",
   "metadata": {},
   "source": [
    "#### Selecting one/multiple col"
   ]
  },
  {
   "cell_type": "code",
   "execution_count": 33,
   "metadata": {},
   "outputs": [
    {
     "data": {
      "text/html": [
       "<div>\n",
       "<style scoped>\n",
       "    .dataframe tbody tr th:only-of-type {\n",
       "        vertical-align: middle;\n",
       "    }\n",
       "\n",
       "    .dataframe tbody tr th {\n",
       "        vertical-align: top;\n",
       "    }\n",
       "\n",
       "    .dataframe thead th {\n",
       "        text-align: right;\n",
       "    }\n",
       "</style>\n",
       "<table border=\"1\" class=\"dataframe\">\n",
       "  <thead>\n",
       "    <tr style=\"text-align: right;\">\n",
       "      <th></th>\n",
       "      <th>stats</th>\n",
       "      <th>text</th>\n",
       "    </tr>\n",
       "  </thead>\n",
       "  <tbody>\n",
       "    <tr>\n",
       "      <th>0</th>\n",
       "      <td>Occurred : 12/12/2019 18:43  (Entered as : 12/...</td>\n",
       "      <td>My wife was driving southeast on a fairly popu...</td>\n",
       "    </tr>\n",
       "    <tr>\n",
       "      <th>1</th>\n",
       "      <td>Occurred : 3/22/2019 18:30  (Entered as : 03/2...</td>\n",
       "      <td>I think that I may caught a UFO on the NBC Nig...</td>\n",
       "    </tr>\n",
       "    <tr>\n",
       "      <th>2</th>\n",
       "      <td>Occurred : 4/1/2019 15:45  (Entered as : April...</td>\n",
       "      <td>I woke up late in the afternoon 3:30-4pm.  I w...</td>\n",
       "    </tr>\n",
       "  </tbody>\n",
       "</table>\n",
       "</div>"
      ],
      "text/plain": [
       "                                               stats  \\\n",
       "0  Occurred : 12/12/2019 18:43  (Entered as : 12/...   \n",
       "1  Occurred : 3/22/2019 18:30  (Entered as : 03/2...   \n",
       "2  Occurred : 4/1/2019 15:45  (Entered as : April...   \n",
       "\n",
       "                                                text  \n",
       "0  My wife was driving southeast on a fairly popu...  \n",
       "1  I think that I may caught a UFO on the NBC Nig...  \n",
       "2  I woke up late in the afternoon 3:30-4pm.  I w...  "
      ]
     },
     "execution_count": 33,
     "metadata": {},
     "output_type": "execute_result"
    }
   ],
   "source": [
    "df[['stats', 'text']].head(3)"
   ]
  },
  {
   "cell_type": "markdown",
   "metadata": {},
   "source": [
    "### Selecting a specific row by integer indexing "
   ]
  },
  {
   "cell_type": "code",
   "execution_count": 34,
   "metadata": {},
   "outputs": [
    {
     "data": {
      "text/plain": [
       "summary           Formation observed flying over Lakehurst Naval...\n",
       "city                                                      Bricktown\n",
       "state                                                            NJ\n",
       "date_time                                       1980-08-15T20:00:00\n",
       "shape                                                     formation\n",
       "duration                                                 20 minutes\n",
       "stats             Occurred : 8/15/1980 20:00  (Entered as : 08/1...\n",
       "report_link        http://www.nuforc.org/webreports/049/S49920.html\n",
       "text              Formation observed flying over Lakehurst Naval...\n",
       "posted                                          2006-05-15T00:00:00\n",
       "city_latitude                                                   NaN\n",
       "city_longitude                                                  NaN\n",
       "Name: 100, dtype: object"
      ]
     },
     "execution_count": 34,
     "metadata": {},
     "output_type": "execute_result"
    }
   ],
   "source": [
    "df.iloc[100]"
   ]
  },
  {
   "cell_type": "markdown",
   "metadata": {},
   "source": [
    "### Selecting multiple rows by integer indexing "
   ]
  },
  {
   "cell_type": "code",
   "execution_count": 35,
   "metadata": {},
   "outputs": [
    {
     "data": {
      "text/html": [
       "<div>\n",
       "<style scoped>\n",
       "    .dataframe tbody tr th:only-of-type {\n",
       "        vertical-align: middle;\n",
       "    }\n",
       "\n",
       "    .dataframe tbody tr th {\n",
       "        vertical-align: top;\n",
       "    }\n",
       "\n",
       "    .dataframe thead th {\n",
       "        text-align: right;\n",
       "    }\n",
       "</style>\n",
       "<table border=\"1\" class=\"dataframe\">\n",
       "  <thead>\n",
       "    <tr style=\"text-align: right;\">\n",
       "      <th></th>\n",
       "      <th>date_time</th>\n",
       "      <th>shape</th>\n",
       "      <th>duration</th>\n",
       "    </tr>\n",
       "  </thead>\n",
       "  <tbody>\n",
       "    <tr>\n",
       "      <th>1</th>\n",
       "      <td>2019-03-22T18:30:00</td>\n",
       "      <td>circle</td>\n",
       "      <td>3-5 seconds</td>\n",
       "    </tr>\n",
       "    <tr>\n",
       "      <th>2</th>\n",
       "      <td>NaN</td>\n",
       "      <td>NaN</td>\n",
       "      <td>NaN</td>\n",
       "    </tr>\n",
       "    <tr>\n",
       "      <th>3</th>\n",
       "      <td>2019-04-17T02:00:00</td>\n",
       "      <td>teardrop</td>\n",
       "      <td>10 seconds</td>\n",
       "    </tr>\n",
       "    <tr>\n",
       "      <th>4</th>\n",
       "      <td>2009-03-15T18:00:00</td>\n",
       "      <td>cigar</td>\n",
       "      <td>2 minutes</td>\n",
       "    </tr>\n",
       "  </tbody>\n",
       "</table>\n",
       "</div>"
      ],
      "text/plain": [
       "             date_time     shape     duration\n",
       "1  2019-03-22T18:30:00    circle  3-5 seconds\n",
       "2                  NaN       NaN          NaN\n",
       "3  2019-04-17T02:00:00  teardrop   10 seconds\n",
       "4  2009-03-15T18:00:00     cigar    2 minutes"
      ]
     },
     "execution_count": 35,
     "metadata": {},
     "output_type": "execute_result"
    }
   ],
   "source": [
    "df.iloc[1:5 , [3,4,5]]\n",
    "# here 1:5 is sliced rows & [3,4,5] means we only showing those cols only"
   ]
  },
  {
   "cell_type": "code",
   "execution_count": 36,
   "metadata": {},
   "outputs": [
    {
     "data": {
      "text/html": [
       "<div>\n",
       "<style scoped>\n",
       "    .dataframe tbody tr th:only-of-type {\n",
       "        vertical-align: middle;\n",
       "    }\n",
       "\n",
       "    .dataframe tbody tr th {\n",
       "        vertical-align: top;\n",
       "    }\n",
       "\n",
       "    .dataframe thead th {\n",
       "        text-align: right;\n",
       "    }\n",
       "</style>\n",
       "<table border=\"1\" class=\"dataframe\">\n",
       "  <thead>\n",
       "    <tr style=\"text-align: right;\">\n",
       "      <th></th>\n",
       "      <th>summary</th>\n",
       "      <th>city</th>\n",
       "      <th>state</th>\n",
       "      <th>date_time</th>\n",
       "      <th>duration</th>\n",
       "      <th>stats</th>\n",
       "      <th>report_link</th>\n",
       "      <th>text</th>\n",
       "      <th>posted</th>\n",
       "      <th>city_latitude</th>\n",
       "      <th>city_longitude</th>\n",
       "    </tr>\n",
       "    <tr>\n",
       "      <th>shape</th>\n",
       "      <th></th>\n",
       "      <th></th>\n",
       "      <th></th>\n",
       "      <th></th>\n",
       "      <th></th>\n",
       "      <th></th>\n",
       "      <th></th>\n",
       "      <th></th>\n",
       "      <th></th>\n",
       "      <th></th>\n",
       "      <th></th>\n",
       "    </tr>\n",
       "  </thead>\n",
       "  <tbody>\n",
       "    <tr>\n",
       "      <th>light</th>\n",
       "      <td>My wife was driving southeast on a fairly popu...</td>\n",
       "      <td>Chester</td>\n",
       "      <td>VA</td>\n",
       "      <td>2019-12-12T18:43:00</td>\n",
       "      <td>5 seconds</td>\n",
       "      <td>Occurred : 12/12/2019 18:43  (Entered as : 12/...</td>\n",
       "      <td>http://www.nuforc.org/webreports/151/S151739.html</td>\n",
       "      <td>My wife was driving southeast on a fairly popu...</td>\n",
       "      <td>2019-12-22T00:00:00</td>\n",
       "      <td>37.343152</td>\n",
       "      <td>-77.408582</td>\n",
       "    </tr>\n",
       "    <tr>\n",
       "      <th>circle</th>\n",
       "      <td>I think that I may caught a UFO on the NBC Nig...</td>\n",
       "      <td>Rocky Hill</td>\n",
       "      <td>CT</td>\n",
       "      <td>2019-03-22T18:30:00</td>\n",
       "      <td>3-5 seconds</td>\n",
       "      <td>Occurred : 3/22/2019 18:30  (Entered as : 03/2...</td>\n",
       "      <td>http://www.nuforc.org/webreports/145/S145297.html</td>\n",
       "      <td>I think that I may caught a UFO on the NBC Nig...</td>\n",
       "      <td>2019-03-29T00:00:00</td>\n",
       "      <td>41.664800</td>\n",
       "      <td>-72.639300</td>\n",
       "    </tr>\n",
       "    <tr>\n",
       "      <th>NaN</th>\n",
       "      <td>I woke up late in the afternoon 3:30-4pm. I we...</td>\n",
       "      <td>NaN</td>\n",
       "      <td>NaN</td>\n",
       "      <td>NaN</td>\n",
       "      <td>NaN</td>\n",
       "      <td>Occurred : 4/1/2019 15:45  (Entered as : April...</td>\n",
       "      <td>http://www.nuforc.org/webreports/145/S145556.html</td>\n",
       "      <td>I woke up late in the afternoon 3:30-4pm.  I w...</td>\n",
       "      <td>NaN</td>\n",
       "      <td>NaN</td>\n",
       "      <td>NaN</td>\n",
       "    </tr>\n",
       "  </tbody>\n",
       "</table>\n",
       "</div>"
      ],
      "text/plain": [
       "                                                  summary        city state  \\\n",
       "shape                                                                         \n",
       "light   My wife was driving southeast on a fairly popu...     Chester    VA   \n",
       "circle  I think that I may caught a UFO on the NBC Nig...  Rocky Hill    CT   \n",
       "NaN     I woke up late in the afternoon 3:30-4pm. I we...         NaN   NaN   \n",
       "\n",
       "                  date_time     duration  \\\n",
       "shape                                      \n",
       "light   2019-12-12T18:43:00    5 seconds   \n",
       "circle  2019-03-22T18:30:00  3-5 seconds   \n",
       "NaN                     NaN          NaN   \n",
       "\n",
       "                                                    stats  \\\n",
       "shape                                                       \n",
       "light   Occurred : 12/12/2019 18:43  (Entered as : 12/...   \n",
       "circle  Occurred : 3/22/2019 18:30  (Entered as : 03/2...   \n",
       "NaN     Occurred : 4/1/2019 15:45  (Entered as : April...   \n",
       "\n",
       "                                              report_link  \\\n",
       "shape                                                       \n",
       "light   http://www.nuforc.org/webreports/151/S151739.html   \n",
       "circle  http://www.nuforc.org/webreports/145/S145297.html   \n",
       "NaN     http://www.nuforc.org/webreports/145/S145556.html   \n",
       "\n",
       "                                                     text  \\\n",
       "shape                                                       \n",
       "light   My wife was driving southeast on a fairly popu...   \n",
       "circle  I think that I may caught a UFO on the NBC Nig...   \n",
       "NaN     I woke up late in the afternoon 3:30-4pm.  I w...   \n",
       "\n",
       "                     posted  city_latitude  city_longitude  \n",
       "shape                                                       \n",
       "light   2019-12-22T00:00:00      37.343152      -77.408582  \n",
       "circle  2019-03-29T00:00:00      41.664800      -72.639300  \n",
       "NaN                     NaN            NaN             NaN  "
      ]
     },
     "execution_count": 36,
     "metadata": {},
     "output_type": "execute_result"
    }
   ],
   "source": [
    "temp_df = df.set_index('shape')\n",
    "temp_df.head(3)"
   ]
  },
  {
   "cell_type": "code",
   "execution_count": 37,
   "metadata": {},
   "outputs": [
    {
     "data": {
      "text/plain": [
       "RangeIndex(start=0, stop=88125, step=1)"
      ]
     },
     "execution_count": 37,
     "metadata": {},
     "output_type": "execute_result"
    }
   ],
   "source": [
    "# name of all the indexes \n",
    "df.index"
   ]
  },
  {
   "cell_type": "code",
   "execution_count": 38,
   "metadata": {},
   "outputs": [
    {
     "data": {
      "text/plain": [
       "Index([    'light',    'circle',         nan,  'teardrop',     'cigar',\n",
       "            'disk',   'unknown',    'circle',      'oval',     'other',\n",
       "       ...\n",
       "           'cigar',     'light',         nan,     'light',     'light',\n",
       "       'formation',     'light', 'formation',  'fireball',    'sphere'],\n",
       "      dtype='object', name='shape', length=88125)"
      ]
     },
     "execution_count": 38,
     "metadata": {},
     "output_type": "execute_result"
    }
   ],
   "source": [
    "# name of all the indexes \n",
    "temp_df.index"
   ]
  },
  {
   "cell_type": "code",
   "execution_count": 45,
   "metadata": {},
   "outputs": [
    {
     "data": {
      "text/html": [
       "<div>\n",
       "<style scoped>\n",
       "    .dataframe tbody tr th:only-of-type {\n",
       "        vertical-align: middle;\n",
       "    }\n",
       "\n",
       "    .dataframe tbody tr th {\n",
       "        vertical-align: top;\n",
       "    }\n",
       "\n",
       "    .dataframe thead th {\n",
       "        text-align: right;\n",
       "    }\n",
       "</style>\n",
       "<table border=\"1\" class=\"dataframe\">\n",
       "  <thead>\n",
       "    <tr style=\"text-align: right;\">\n",
       "      <th></th>\n",
       "      <th>summary</th>\n",
       "      <th>city</th>\n",
       "      <th>state</th>\n",
       "      <th>date_time</th>\n",
       "      <th>duration</th>\n",
       "      <th>stats</th>\n",
       "      <th>report_link</th>\n",
       "      <th>text</th>\n",
       "      <th>posted</th>\n",
       "      <th>city_latitude</th>\n",
       "      <th>city_longitude</th>\n",
       "    </tr>\n",
       "    <tr>\n",
       "      <th>shape</th>\n",
       "      <th></th>\n",
       "      <th></th>\n",
       "      <th></th>\n",
       "      <th></th>\n",
       "      <th></th>\n",
       "      <th></th>\n",
       "      <th></th>\n",
       "      <th></th>\n",
       "      <th></th>\n",
       "      <th></th>\n",
       "      <th></th>\n",
       "    </tr>\n",
       "  </thead>\n",
       "  <tbody>\n",
       "    <tr>\n",
       "      <th>changing</th>\n",
       "      <td>Orange Glowing Unidentified objects over the G...</td>\n",
       "      <td>Gulf Shores</td>\n",
       "      <td>AL</td>\n",
       "      <td>2007-06-06T22:00:00</td>\n",
       "      <td>34 minutes</td>\n",
       "      <td>Occurred : 6/6/2007 22:00  (Entered as : 06/06...</td>\n",
       "      <td>http://www.nuforc.org/webreports/057/S57023.html</td>\n",
       "      <td>Orange Glowing Unidentified objects over the G...</td>\n",
       "      <td>2007-06-12T00:00:00</td>\n",
       "      <td>30.250995</td>\n",
       "      <td>-87.68415</td>\n",
       "    </tr>\n",
       "    <tr>\n",
       "      <th>changing</th>\n",
       "      <td>Strange lights with strange movements, then va...</td>\n",
       "      <td>Streetsboro</td>\n",
       "      <td>OH</td>\n",
       "      <td>2015-08-10T11:45:00</td>\n",
       "      <td>15 minutes</td>\n",
       "      <td>Occurred : 8/10/2015 11:45  (Entered as : 08/1...</td>\n",
       "      <td>http://www.nuforc.org/webreports/121/S121050.html</td>\n",
       "      <td>Strange lights with strange movements, then va...</td>\n",
       "      <td>2015-08-13T00:00:00</td>\n",
       "      <td>41.235000</td>\n",
       "      <td>-81.34340</td>\n",
       "    </tr>\n",
       "    <tr>\n",
       "      <th>changing</th>\n",
       "      <td>Linear triangle shaped object observed in Pamp...</td>\n",
       "      <td>Pamplin</td>\n",
       "      <td>VA</td>\n",
       "      <td>2018-01-15T05:33:00</td>\n",
       "      <td>10 minutes</td>\n",
       "      <td>Occurred : 1/15/2018 05:33  (Entered as : 01/1...</td>\n",
       "      <td>http://www.nuforc.org/webreports/138/S138391.html</td>\n",
       "      <td>Linear triangle shaped object observed in Pamp...</td>\n",
       "      <td>2018-01-18T00:00:00</td>\n",
       "      <td>37.271300</td>\n",
       "      <td>-78.62660</td>\n",
       "    </tr>\n",
       "  </tbody>\n",
       "</table>\n",
       "</div>"
      ],
      "text/plain": [
       "                                                    summary         city  \\\n",
       "shape                                                                      \n",
       "changing  Orange Glowing Unidentified objects over the G...  Gulf Shores   \n",
       "changing  Strange lights with strange movements, then va...  Streetsboro   \n",
       "changing  Linear triangle shaped object observed in Pamp...      Pamplin   \n",
       "\n",
       "         state            date_time    duration  \\\n",
       "shape                                             \n",
       "changing    AL  2007-06-06T22:00:00  34 minutes   \n",
       "changing    OH  2015-08-10T11:45:00  15 minutes   \n",
       "changing    VA  2018-01-15T05:33:00  10 minutes   \n",
       "\n",
       "                                                      stats  \\\n",
       "shape                                                         \n",
       "changing  Occurred : 6/6/2007 22:00  (Entered as : 06/06...   \n",
       "changing  Occurred : 8/10/2015 11:45  (Entered as : 08/1...   \n",
       "changing  Occurred : 1/15/2018 05:33  (Entered as : 01/1...   \n",
       "\n",
       "                                                report_link  \\\n",
       "shape                                                         \n",
       "changing   http://www.nuforc.org/webreports/057/S57023.html   \n",
       "changing  http://www.nuforc.org/webreports/121/S121050.html   \n",
       "changing  http://www.nuforc.org/webreports/138/S138391.html   \n",
       "\n",
       "                                                       text  \\\n",
       "shape                                                         \n",
       "changing  Orange Glowing Unidentified objects over the G...   \n",
       "changing  Strange lights with strange movements, then va...   \n",
       "changing  Linear triangle shaped object observed in Pamp...   \n",
       "\n",
       "                       posted  city_latitude  city_longitude  \n",
       "shape                                                         \n",
       "changing  2007-06-12T00:00:00      30.250995       -87.68415  \n",
       "changing  2015-08-13T00:00:00      41.235000       -81.34340  \n",
       "changing  2018-01-18T00:00:00      37.271300       -78.62660  "
      ]
     },
     "execution_count": 45,
     "metadata": {},
     "output_type": "execute_result"
    }
   ],
   "source": [
    "# sorting by index\n",
    "temp_df.sort_index()\n",
    "temp_df.sort_index().loc['changing'].head(3)\n"
   ]
  },
  {
   "cell_type": "markdown",
   "metadata": {},
   "source": [
    "## Creating date time columns"
   ]
  },
  {
   "cell_type": "code",
   "execution_count": 40,
   "metadata": {},
   "outputs": [],
   "source": [
    "df['date_time'] = pd.to_datetime(df['date_time'])"
   ]
  },
  {
   "cell_type": "code",
   "execution_count": 41,
   "metadata": {},
   "outputs": [
    {
     "data": {
      "text/plain": [
       "88120   2019-10-02 20:00:00\n",
       "88121   2019-10-02 20:00:00\n",
       "88122   2019-10-02 20:03:00\n",
       "88123   2019-10-02 22:00:00\n",
       "88124   2019-10-02 22:00:00\n",
       "Name: date_time, dtype: datetime64[ns]"
      ]
     },
     "execution_count": 41,
     "metadata": {},
     "output_type": "execute_result"
    }
   ],
   "source": [
    "df['date_time'].tail()"
   ]
  },
  {
   "cell_type": "code",
   "execution_count": 42,
   "metadata": {},
   "outputs": [
    {
     "data": {
      "text/html": [
       "<div>\n",
       "<style scoped>\n",
       "    .dataframe tbody tr th:only-of-type {\n",
       "        vertical-align: middle;\n",
       "    }\n",
       "\n",
       "    .dataframe tbody tr th {\n",
       "        vertical-align: top;\n",
       "    }\n",
       "\n",
       "    .dataframe thead th {\n",
       "        text-align: right;\n",
       "    }\n",
       "</style>\n",
       "<table border=\"1\" class=\"dataframe\">\n",
       "  <thead>\n",
       "    <tr style=\"text-align: right;\">\n",
       "      <th></th>\n",
       "      <th>summary</th>\n",
       "      <th>city</th>\n",
       "      <th>state</th>\n",
       "      <th>date_time</th>\n",
       "      <th>shape</th>\n",
       "      <th>duration</th>\n",
       "      <th>stats</th>\n",
       "      <th>report_link</th>\n",
       "      <th>text</th>\n",
       "      <th>posted</th>\n",
       "      <th>city_latitude</th>\n",
       "      <th>city_longitude</th>\n",
       "    </tr>\n",
       "  </thead>\n",
       "  <tbody>\n",
       "    <tr>\n",
       "      <th>54</th>\n",
       "      <td>It was a full moon when my brother and I obser...</td>\n",
       "      <td>Lawrenceburg</td>\n",
       "      <td>KY</td>\n",
       "      <td>1969-06-01 21:00:00</td>\n",
       "      <td>disk</td>\n",
       "      <td>5 minutes</td>\n",
       "      <td>Occurred : 6/1/1969 21:00  (Entered as : 1969 ...</td>\n",
       "      <td>http://www.nuforc.org/webreports/049/S49947.html</td>\n",
       "      <td>It was a full moon when my brother and I obser...</td>\n",
       "      <td>2006-05-15T00:00:00</td>\n",
       "      <td>38.005200</td>\n",
       "      <td>-84.983000</td>\n",
       "    </tr>\n",
       "    <tr>\n",
       "      <th>55</th>\n",
       "      <td>UFO over Orangevale, CA in May/June 1969</td>\n",
       "      <td>Orangevale</td>\n",
       "      <td>CA</td>\n",
       "      <td>1969-06-01 23:00:00</td>\n",
       "      <td>unknown</td>\n",
       "      <td>30 to 45 minutes</td>\n",
       "      <td>Occurred : 6/1/1969 23:00  (Entered as : 06/01...</td>\n",
       "      <td>http://www.nuforc.org/webreports/049/S49619.html</td>\n",
       "      <td>UFO over Orangevale, CA in May/June 1969 My fi...</td>\n",
       "      <td>2006-05-15T00:00:00</td>\n",
       "      <td>38.684500</td>\n",
       "      <td>-121.222300</td>\n",
       "    </tr>\n",
       "    <tr>\n",
       "      <th>56</th>\n",
       "      <td>A  FLYING OBJECT BURNED TOP OF TREES IN ROCKY ...</td>\n",
       "      <td>Rocky Mount</td>\n",
       "      <td>NC</td>\n",
       "      <td>1969-07-27 21:45:00</td>\n",
       "      <td>sphere</td>\n",
       "      <td>15 MINUTES</td>\n",
       "      <td>Occurred : 7/27/1969 21:45  (Entered as : 07/2...</td>\n",
       "      <td>http://www.nuforc.org/webreports/050/S50399.html</td>\n",
       "      <td>A  FLYING OBJECT BURNED TOP OF TREES IN ROCKY ...</td>\n",
       "      <td>2006-05-15T00:00:00</td>\n",
       "      <td>35.954755</td>\n",
       "      <td>-77.832038</td>\n",
       "    </tr>\n",
       "  </tbody>\n",
       "</table>\n",
       "</div>"
      ],
      "text/plain": [
       "                                              summary          city state  \\\n",
       "54  It was a full moon when my brother and I obser...  Lawrenceburg    KY   \n",
       "55           UFO over Orangevale, CA in May/June 1969    Orangevale    CA   \n",
       "56  A  FLYING OBJECT BURNED TOP OF TREES IN ROCKY ...   Rocky Mount    NC   \n",
       "\n",
       "             date_time    shape          duration  \\\n",
       "54 1969-06-01 21:00:00     disk         5 minutes   \n",
       "55 1969-06-01 23:00:00  unknown  30 to 45 minutes   \n",
       "56 1969-07-27 21:45:00   sphere        15 MINUTES   \n",
       "\n",
       "                                                stats  \\\n",
       "54  Occurred : 6/1/1969 21:00  (Entered as : 1969 ...   \n",
       "55  Occurred : 6/1/1969 23:00  (Entered as : 06/01...   \n",
       "56  Occurred : 7/27/1969 21:45  (Entered as : 07/2...   \n",
       "\n",
       "                                         report_link  \\\n",
       "54  http://www.nuforc.org/webreports/049/S49947.html   \n",
       "55  http://www.nuforc.org/webreports/049/S49619.html   \n",
       "56  http://www.nuforc.org/webreports/050/S50399.html   \n",
       "\n",
       "                                                 text               posted  \\\n",
       "54  It was a full moon when my brother and I obser...  2006-05-15T00:00:00   \n",
       "55  UFO over Orangevale, CA in May/June 1969 My fi...  2006-05-15T00:00:00   \n",
       "56  A  FLYING OBJECT BURNED TOP OF TREES IN ROCKY ...  2006-05-15T00:00:00   \n",
       "\n",
       "    city_latitude  city_longitude  \n",
       "54      38.005200      -84.983000  \n",
       "55      38.684500     -121.222300  \n",
       "56      35.954755      -77.832038  "
      ]
     },
     "execution_count": 42,
     "metadata": {},
     "output_type": "execute_result"
    }
   ],
   "source": [
    "tm = pd.to_datetime('1/1/1970')\n",
    "\n",
    "df.loc[df['date_time'] < tm].head(3)"
   ]
  },
  {
   "cell_type": "code",
   "execution_count": 43,
   "metadata": {},
   "outputs": [
    {
     "data": {
      "text/plain": [
       "Timestamp('2019-12-29 20:40:00')"
      ]
     },
     "execution_count": 43,
     "metadata": {},
     "output_type": "execute_result"
    }
   ],
   "source": [
    "df['date_time'].max()"
   ]
  },
  {
   "cell_type": "markdown",
   "metadata": {},
   "source": [
    "### Dealing with duplicate rows"
   ]
  },
  {
   "cell_type": "code",
   "execution_count": 44,
   "metadata": {},
   "outputs": [
    {
     "data": {
      "text/plain": [
       "41626"
      ]
     },
     "execution_count": 44,
     "metadata": {},
     "output_type": "execute_result"
    }
   ],
   "source": [
    "df.duplicated(['city','shape']).sum()"
   ]
  },
  {
   "cell_type": "markdown",
   "metadata": {},
   "source": [
    "### Droping columns & Dealing with NaN"
   ]
  },
  {
   "cell_type": "code",
   "execution_count": 52,
   "metadata": {},
   "outputs": [
    {
     "name": "stdout",
     "output_type": "stream",
     "text": [
      "<class 'pandas.core.frame.DataFrame'>\n",
      "Int64Index: 67773 entries, 0 to 88123\n",
      "Data columns (total 12 columns):\n",
      " #   Column          Non-Null Count  Dtype         \n",
      "---  ------          --------------  -----         \n",
      " 0   summary         67773 non-null  object        \n",
      " 1   city            67773 non-null  object        \n",
      " 2   state           67773 non-null  object        \n",
      " 3   date_time       67773 non-null  datetime64[ns]\n",
      " 4   shape           67773 non-null  object        \n",
      " 5   duration        67773 non-null  object        \n",
      " 6   stats           67773 non-null  object        \n",
      " 7   report_link     67773 non-null  object        \n",
      " 8   text            67773 non-null  object        \n",
      " 9   posted          67773 non-null  object        \n",
      " 10  city_latitude   67773 non-null  float64       \n",
      " 11  city_longitude  67773 non-null  float64       \n",
      "dtypes: datetime64[ns](1), float64(2), object(9)\n",
      "memory usage: 6.7+ MB\n"
     ]
    }
   ],
   "source": [
    "#droping all the rows that has at least one NaN valu\n",
    "df.dropna().info()"
   ]
  },
  {
   "cell_type": "code",
   "execution_count": 51,
   "metadata": {},
   "outputs": [
    {
     "data": {
      "text/html": [
       "<div>\n",
       "<style scoped>\n",
       "    .dataframe tbody tr th:only-of-type {\n",
       "        vertical-align: middle;\n",
       "    }\n",
       "\n",
       "    .dataframe tbody tr th {\n",
       "        vertical-align: top;\n",
       "    }\n",
       "\n",
       "    .dataframe thead th {\n",
       "        text-align: right;\n",
       "    }\n",
       "</style>\n",
       "<table border=\"1\" class=\"dataframe\">\n",
       "  <thead>\n",
       "    <tr style=\"text-align: right;\">\n",
       "      <th></th>\n",
       "      <th>summary</th>\n",
       "      <th>city</th>\n",
       "      <th>state</th>\n",
       "      <th>date_time</th>\n",
       "      <th>shape</th>\n",
       "      <th>duration</th>\n",
       "      <th>stats</th>\n",
       "      <th>report_link</th>\n",
       "      <th>text</th>\n",
       "      <th>posted</th>\n",
       "      <th>city_latitude</th>\n",
       "      <th>city_longitude</th>\n",
       "    </tr>\n",
       "  </thead>\n",
       "  <tbody>\n",
       "    <tr>\n",
       "      <th>0</th>\n",
       "      <td>My wife was driving southeast on a fairly popu...</td>\n",
       "      <td>Chester</td>\n",
       "      <td>VA</td>\n",
       "      <td>2019-12-12 18:43:00</td>\n",
       "      <td>light</td>\n",
       "      <td>5 seconds</td>\n",
       "      <td>Occurred : 12/12/2019 18:43  (Entered as : 12/...</td>\n",
       "      <td>http://www.nuforc.org/webreports/151/S151739.html</td>\n",
       "      <td>My wife was driving southeast on a fairly popu...</td>\n",
       "      <td>2019-12-22T00:00:00</td>\n",
       "      <td>37.343152</td>\n",
       "      <td>-77.408582</td>\n",
       "    </tr>\n",
       "    <tr>\n",
       "      <th>1</th>\n",
       "      <td>I think that I may caught a UFO on the NBC Nig...</td>\n",
       "      <td>Rocky Hill</td>\n",
       "      <td>CT</td>\n",
       "      <td>2019-03-22 18:30:00</td>\n",
       "      <td>circle</td>\n",
       "      <td>3-5 seconds</td>\n",
       "      <td>Occurred : 3/22/2019 18:30  (Entered as : 03/2...</td>\n",
       "      <td>http://www.nuforc.org/webreports/145/S145297.html</td>\n",
       "      <td>I think that I may caught a UFO on the NBC Nig...</td>\n",
       "      <td>2019-03-29T00:00:00</td>\n",
       "      <td>41.664800</td>\n",
       "      <td>-72.639300</td>\n",
       "    </tr>\n",
       "    <tr>\n",
       "      <th>3</th>\n",
       "      <td>I was driving towards the intersection of fall...</td>\n",
       "      <td>Ottawa</td>\n",
       "      <td>ON</td>\n",
       "      <td>2019-04-17 02:00:00</td>\n",
       "      <td>teardrop</td>\n",
       "      <td>10 seconds</td>\n",
       "      <td>Occurred : 4/17/2019 02:00  (Entered as : 04-1...</td>\n",
       "      <td>http://www.nuforc.org/webreports/145/S145697.html</td>\n",
       "      <td>I was driving towards the intersection of fall...</td>\n",
       "      <td>2019-04-18T00:00:00</td>\n",
       "      <td>45.381383</td>\n",
       "      <td>-75.708501</td>\n",
       "    </tr>\n",
       "    <tr>\n",
       "      <th>5</th>\n",
       "      <td>The object has flashing lights that are green,...</td>\n",
       "      <td>Kirbyville</td>\n",
       "      <td>TX</td>\n",
       "      <td>2019-04-02 20:25:00</td>\n",
       "      <td>disk</td>\n",
       "      <td>15 minutes</td>\n",
       "      <td>Occurred : 4/2/2019 20:25  (Entered as : 04/02...</td>\n",
       "      <td>http://www.nuforc.org/webreports/145/S145476.html</td>\n",
       "      <td>The object has flashing lights that are green,...</td>\n",
       "      <td>2019-04-08T00:00:00</td>\n",
       "      <td>30.677200</td>\n",
       "      <td>-94.005200</td>\n",
       "    </tr>\n",
       "    <tr>\n",
       "      <th>6</th>\n",
       "      <td>Description is the same as Washington DC event...</td>\n",
       "      <td>Tucson</td>\n",
       "      <td>AZ</td>\n",
       "      <td>2019-05-01 11:00:00</td>\n",
       "      <td>unknown</td>\n",
       "      <td>5 minutes</td>\n",
       "      <td>Occurred : 5/1/2019 11:00  (Entered as : 5/1/1...</td>\n",
       "      <td>http://www.nuforc.org/webreports/145/S145947.html</td>\n",
       "      <td>Description is the same as Washington, DC, eve...</td>\n",
       "      <td>2019-05-09T00:00:00</td>\n",
       "      <td>32.259941</td>\n",
       "      <td>-110.927542</td>\n",
       "    </tr>\n",
       "    <tr>\n",
       "      <th>...</th>\n",
       "      <td>...</td>\n",
       "      <td>...</td>\n",
       "      <td>...</td>\n",
       "      <td>...</td>\n",
       "      <td>...</td>\n",
       "      <td>...</td>\n",
       "      <td>...</td>\n",
       "      <td>...</td>\n",
       "      <td>...</td>\n",
       "      <td>...</td>\n",
       "      <td>...</td>\n",
       "      <td>...</td>\n",
       "    </tr>\n",
       "    <tr>\n",
       "      <th>88119</th>\n",
       "      <td>there was a stationary orange light in the eas...</td>\n",
       "      <td>Morgan City</td>\n",
       "      <td>LA</td>\n",
       "      <td>2019-10-02 19:15:00</td>\n",
       "      <td>light</td>\n",
       "      <td>2 minutes</td>\n",
       "      <td>Occurred : 10/2/2019 19:15  (Entered as : 10/0...</td>\n",
       "      <td>http://www.nuforc.org/webreports/149/S149421.html</td>\n",
       "      <td>there was a stationary orange light in the eas...</td>\n",
       "      <td>2019-10-04T00:00:00</td>\n",
       "      <td>29.699692</td>\n",
       "      <td>-91.069123</td>\n",
       "    </tr>\n",
       "    <tr>\n",
       "      <th>88120</th>\n",
       "      <td>4 lights in formation over Tempe appear while ...</td>\n",
       "      <td>Tempe</td>\n",
       "      <td>AZ</td>\n",
       "      <td>2019-10-02 20:00:00</td>\n",
       "      <td>formation</td>\n",
       "      <td>3 minutes</td>\n",
       "      <td>Occurred : 10/2/2019 20:00  (Entered as : 10/2...</td>\n",
       "      <td>http://www.nuforc.org/webreports/149/S149463.html</td>\n",
       "      <td>4 lights in formation over Tempe appear while ...</td>\n",
       "      <td>2019-10-04T00:00:00</td>\n",
       "      <td>33.414036</td>\n",
       "      <td>-111.920920</td>\n",
       "    </tr>\n",
       "    <tr>\n",
       "      <th>88121</th>\n",
       "      <td>2 bright star like lights in the NNW skys,  ((...</td>\n",
       "      <td>Bolivar</td>\n",
       "      <td>MO</td>\n",
       "      <td>2019-10-02 20:00:00</td>\n",
       "      <td>light</td>\n",
       "      <td>20 seconds</td>\n",
       "      <td>Occurred : 10/2/2019 20:00  (Entered as : 10/0...</td>\n",
       "      <td>http://www.nuforc.org/webreports/149/S149405.html</td>\n",
       "      <td>2 bright star like lights in the NNW sky two b...</td>\n",
       "      <td>2019-10-04T00:00:00</td>\n",
       "      <td>37.642200</td>\n",
       "      <td>-93.399600</td>\n",
       "    </tr>\n",
       "    <tr>\n",
       "      <th>88122</th>\n",
       "      <td>I just witnessed a ‘Phoenix Lights’ type of fo...</td>\n",
       "      <td>North Port</td>\n",
       "      <td>FL</td>\n",
       "      <td>2019-10-02 20:03:00</td>\n",
       "      <td>formation</td>\n",
       "      <td>20 seconds</td>\n",
       "      <td>Occurred : 10/2/2019 20:03  (Entered as : 10/0...</td>\n",
       "      <td>http://www.nuforc.org/webreports/149/S149424.html</td>\n",
       "      <td>10/2/19 @ 8:03PM EST  UFO SIGHTING in the 3428...</td>\n",
       "      <td>2019-10-04T00:00:00</td>\n",
       "      <td>27.076210</td>\n",
       "      <td>-82.223280</td>\n",
       "    </tr>\n",
       "    <tr>\n",
       "      <th>88123</th>\n",
       "      <td>Witnessed an orange, slow moving light. Was lo...</td>\n",
       "      <td>Black Mountain</td>\n",
       "      <td>NC</td>\n",
       "      <td>2019-10-02 22:00:00</td>\n",
       "      <td>fireball</td>\n",
       "      <td>2 minutes</td>\n",
       "      <td>Occurred : 10/2/2019 22:00  (Entered as : 10/0...</td>\n",
       "      <td>http://www.nuforc.org/webreports/149/S149447.html</td>\n",
       "      <td>Witnessed an orange, slow moving light. Was lo...</td>\n",
       "      <td>2019-10-04T00:00:00</td>\n",
       "      <td>35.605000</td>\n",
       "      <td>-82.313200</td>\n",
       "    </tr>\n",
       "  </tbody>\n",
       "</table>\n",
       "<p>72013 rows × 12 columns</p>\n",
       "</div>"
      ],
      "text/plain": [
       "                                                 summary            city  \\\n",
       "0      My wife was driving southeast on a fairly popu...         Chester   \n",
       "1      I think that I may caught a UFO on the NBC Nig...      Rocky Hill   \n",
       "3      I was driving towards the intersection of fall...          Ottawa   \n",
       "5      The object has flashing lights that are green,...      Kirbyville   \n",
       "6      Description is the same as Washington DC event...          Tucson   \n",
       "...                                                  ...             ...   \n",
       "88119  there was a stationary orange light in the eas...     Morgan City   \n",
       "88120  4 lights in formation over Tempe appear while ...           Tempe   \n",
       "88121  2 bright star like lights in the NNW skys,  ((...         Bolivar   \n",
       "88122  I just witnessed a ‘Phoenix Lights’ type of fo...      North Port   \n",
       "88123  Witnessed an orange, slow moving light. Was lo...  Black Mountain   \n",
       "\n",
       "      state           date_time      shape     duration  \\\n",
       "0        VA 2019-12-12 18:43:00      light    5 seconds   \n",
       "1        CT 2019-03-22 18:30:00     circle  3-5 seconds   \n",
       "3        ON 2019-04-17 02:00:00   teardrop   10 seconds   \n",
       "5        TX 2019-04-02 20:25:00       disk   15 minutes   \n",
       "6        AZ 2019-05-01 11:00:00    unknown    5 minutes   \n",
       "...     ...                 ...        ...          ...   \n",
       "88119    LA 2019-10-02 19:15:00      light    2 minutes   \n",
       "88120    AZ 2019-10-02 20:00:00  formation    3 minutes   \n",
       "88121    MO 2019-10-02 20:00:00      light   20 seconds   \n",
       "88122    FL 2019-10-02 20:03:00  formation   20 seconds   \n",
       "88123    NC 2019-10-02 22:00:00   fireball    2 minutes   \n",
       "\n",
       "                                                   stats  \\\n",
       "0      Occurred : 12/12/2019 18:43  (Entered as : 12/...   \n",
       "1      Occurred : 3/22/2019 18:30  (Entered as : 03/2...   \n",
       "3      Occurred : 4/17/2019 02:00  (Entered as : 04-1...   \n",
       "5      Occurred : 4/2/2019 20:25  (Entered as : 04/02...   \n",
       "6      Occurred : 5/1/2019 11:00  (Entered as : 5/1/1...   \n",
       "...                                                  ...   \n",
       "88119  Occurred : 10/2/2019 19:15  (Entered as : 10/0...   \n",
       "88120  Occurred : 10/2/2019 20:00  (Entered as : 10/2...   \n",
       "88121  Occurred : 10/2/2019 20:00  (Entered as : 10/0...   \n",
       "88122  Occurred : 10/2/2019 20:03  (Entered as : 10/0...   \n",
       "88123  Occurred : 10/2/2019 22:00  (Entered as : 10/0...   \n",
       "\n",
       "                                             report_link  \\\n",
       "0      http://www.nuforc.org/webreports/151/S151739.html   \n",
       "1      http://www.nuforc.org/webreports/145/S145297.html   \n",
       "3      http://www.nuforc.org/webreports/145/S145697.html   \n",
       "5      http://www.nuforc.org/webreports/145/S145476.html   \n",
       "6      http://www.nuforc.org/webreports/145/S145947.html   \n",
       "...                                                  ...   \n",
       "88119  http://www.nuforc.org/webreports/149/S149421.html   \n",
       "88120  http://www.nuforc.org/webreports/149/S149463.html   \n",
       "88121  http://www.nuforc.org/webreports/149/S149405.html   \n",
       "88122  http://www.nuforc.org/webreports/149/S149424.html   \n",
       "88123  http://www.nuforc.org/webreports/149/S149447.html   \n",
       "\n",
       "                                                    text               posted  \\\n",
       "0      My wife was driving southeast on a fairly popu...  2019-12-22T00:00:00   \n",
       "1      I think that I may caught a UFO on the NBC Nig...  2019-03-29T00:00:00   \n",
       "3      I was driving towards the intersection of fall...  2019-04-18T00:00:00   \n",
       "5      The object has flashing lights that are green,...  2019-04-08T00:00:00   \n",
       "6      Description is the same as Washington, DC, eve...  2019-05-09T00:00:00   \n",
       "...                                                  ...                  ...   \n",
       "88119  there was a stationary orange light in the eas...  2019-10-04T00:00:00   \n",
       "88120  4 lights in formation over Tempe appear while ...  2019-10-04T00:00:00   \n",
       "88121  2 bright star like lights in the NNW sky two b...  2019-10-04T00:00:00   \n",
       "88122  10/2/19 @ 8:03PM EST  UFO SIGHTING in the 3428...  2019-10-04T00:00:00   \n",
       "88123  Witnessed an orange, slow moving light. Was lo...  2019-10-04T00:00:00   \n",
       "\n",
       "       city_latitude  city_longitude  \n",
       "0          37.343152      -77.408582  \n",
       "1          41.664800      -72.639300  \n",
       "3          45.381383      -75.708501  \n",
       "5          30.677200      -94.005200  \n",
       "6          32.259941     -110.927542  \n",
       "...              ...             ...  \n",
       "88119      29.699692      -91.069123  \n",
       "88120      33.414036     -111.920920  \n",
       "88121      37.642200      -93.399600  \n",
       "88122      27.076210      -82.223280  \n",
       "88123      35.605000      -82.313200  \n",
       "\n",
       "[72013 rows x 12 columns]"
      ]
     },
     "execution_count": 51,
     "metadata": {},
     "output_type": "execute_result"
    }
   ],
   "source": [
    "#Specifing the cols that has Nan\n",
    "df.dropna(subset=['city_latitude'])"
   ]
  }
 ],
 "metadata": {
  "kernelspec": {
   "display_name": "Python 3",
   "language": "python",
   "name": "python3"
  },
  "language_info": {
   "codemirror_mode": {
    "name": "ipython",
    "version": 3
   },
   "file_extension": ".py",
   "mimetype": "text/x-python",
   "name": "python",
   "nbconvert_exporter": "python",
   "pygments_lexer": "ipython3",
   "version": "3.7.6"
  }
 },
 "nbformat": 4,
 "nbformat_minor": 4
}
